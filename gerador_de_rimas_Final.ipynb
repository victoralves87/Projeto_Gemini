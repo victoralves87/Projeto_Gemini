{
  "cells": [
    {
      "cell_type": "code",
      "execution_count": 1,
      "metadata": {
        "id": "nFQLKQ6hfXch",
        "colab": {
          "base_uri": "https://localhost:8080/",
          "height": 146
        },
        "outputId": "47da6515-c814-4526-80c9-4edc0eb59bbf"
      },
      "outputs": [
        {
          "output_type": "stream",
          "name": "stdout",
          "text": [
            "Digite uma palavra para gerar um poema: amor\n",
            "\n",
            " Poema gerada:\n",
            "Nosso amor é uma chama ardente,\n",
            "Que aquece nossos corações e nos mantém aquecidos.\n",
            "É um vínculo inquebrável, forte e terno,\n",
            "Um tesouro precioso que valorizamos e mantemos.\n"
          ]
        }
      ],
      "source": [
        "# Instalando o SDK do Google\n",
        "!pip install -q -U google-generativeai\n",
        "\n",
        "# Configurações iniciais\n",
        "import google.generativeai as genai\n",
        "from google.colab import userdata\n",
        "\n",
        "# Obtenção da chave de API\n",
        "api_key = userdata.get('SECRET_KEY')\n",
        "genai.configure(api_key=api_key)\n",
        "\n",
        "# Função para gerar rima com base em uma palavra\n",
        "def gerar_rima(palavra):\n",
        "    # Configuração da geração\n",
        "    generation_config = {\n",
        "        \"candidate_count\": 1,\n",
        "        \"temperature\": 0.7\n",
        "        ,\n",
        "    }\n",
        "\n",
        "    # Configurações de segurança\n",
        "    safety_settings = {\n",
        "        'HATE': 'BLOCK_NONE',\n",
        "        'HARASSMENT': 'BLOCK_NONE',\n",
        "        'SEXUAL': 'BLOCK_NONE',\n",
        "        'DANGEROUS': 'BLOCK_NONE'\n",
        "    }\n",
        "\n",
        "    # Instanciar o modelo generativo\n",
        "    model = genai.GenerativeModel(\n",
        "        model_name='gemini-1.0-pro',\n",
        "        generation_config=generation_config,\n",
        "        safety_settings=safety_settings\n",
        "    )\n",
        "\n",
        "    # Gerar rima com base na palavra fornecida\n",
        "    prompt = f\"Rima para a palavra '{palavra}':\"\n",
        "    response = model.generate_content(prompt + f\" {palavra}\")\n",
        "\n",
        "    # Retornar a rima gerada\n",
        "    return response.text\n",
        "\n",
        "# Solicitar ao usuário uma palavra para gerar uma rima\n",
        "palavra = input(\"Digite uma palavra para gerar um poema: \")\n",
        "\n",
        "# Gerar e exibir a rima\n",
        "print(\"\\n Poema gerado:\")\n",
        "rima = gerar_rima(palavra)\n",
        "print(rima)"
      ]
    }
  ],
  "metadata": {
    "colab": {
      "provenance": []
    },
    "kernelspec": {
      "display_name": "Python 3",
      "name": "python3"
    },
    "language_info": {
      "name": "python"
    }
  },
  "nbformat": 4,
  "nbformat_minor": 0
}