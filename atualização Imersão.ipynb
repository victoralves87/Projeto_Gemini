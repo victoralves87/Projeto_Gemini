{
  "cells": [
    {
      "cell_type": "code",
      "execution_count": 15,
      "metadata": {
        "id": "nFQLKQ6hfXch",
        "colab": {
          "base_uri": "https://localhost:8080/",
          "height": 1000
        },
        "outputId": "711634b6-d88a-417a-fcb7-f089ac791a08"
      },
      "outputs": [
        {
          "name": "stdout",
          "output_type": "stream",
          "text": [
            "models/gemini-1.0-pro\n",
            "models/gemini-1.0-pro-001\n",
            "models/gemini-1.0-pro-latest\n",
            "models/gemini-1.0-pro-vision-latest\n",
            "models/gemini-1.5-pro-latest\n",
            "models/gemini-pro\n",
            "models/gemini-pro-vision\n",
            "Google\n",
            "Esperando prompt: oi gemini tudo bom mano\n",
            "Resposta: Olá, não sou Gemini. Sou Gemini, um modelo de linguagem de IA multimodal desenvolvido pelo Google. \n",
            "\n",
            "\n",
            "Esperando prompt: faça uma função js para min retornando uma msnsagem ola mundo\n",
            "Resposta: ```js\n",
            "function olaMundo() {\n",
            "  return \"Olá, mundo!\";\n",
            "}\n",
            "``` \n",
            "\n",
            "\n",
            "Esperando prompt: qual a capital de pernambuco\n",
            "Resposta: Recife \n",
            "\n",
            "\n",
            "Esperando prompt: qual o melhor lugar do brasil para morar\n",
            "Resposta: De acordo com pesquisas e rankings recentes, as seguintes cidades estão entre as melhores do Brasil para morar:\n",
            "\n",
            "* **Florianópolis (SC)**\n",
            "* **Curitiba (PR)**\n",
            "* **Porto Alegre (RS)**\n",
            "* **Brasília (DF)**\n",
            "* **São Paulo (SP)**\n",
            "* **Campinas (SP)**\n",
            "* **Belo Horizonte (MG)**\n",
            "* **Goiânia (GO)**\n",
            "* **Salvador (BA)**\n",
            "* **Recife (PE)**\n",
            "\n",
            "A escolha da melhor cidade para morar depende de fatores individuais, como estilo de vida, preferências pessoais e necessidades financeiras. \n",
            "\n",
            "\n",
            "Esperando prompt: fim\n"
          ]
        },
        {
          "output_type": "display_data",
          "data": {
            "text/plain": [
              "<IPython.core.display.Markdown object>"
            ],
            "text/markdown": "> **user**: oi gemini tudo bom mano"
          },
          "metadata": {}
        },
        {
          "output_type": "stream",
          "name": "stdout",
          "text": [
            "-------------------------------------------\n"
          ]
        },
        {
          "output_type": "display_data",
          "data": {
            "text/plain": [
              "<IPython.core.display.Markdown object>"
            ],
            "text/markdown": "> **model**: Olá, não sou Gemini. Sou Gemini, um modelo de linguagem de IA multimodal desenvolvido pelo Google."
          },
          "metadata": {}
        },
        {
          "output_type": "stream",
          "name": "stdout",
          "text": [
            "-------------------------------------------\n"
          ]
        },
        {
          "output_type": "display_data",
          "data": {
            "text/plain": [
              "<IPython.core.display.Markdown object>"
            ],
            "text/markdown": "> **user**: faça uma função js para min retornando uma msnsagem ola mundo"
          },
          "metadata": {}
        },
        {
          "output_type": "stream",
          "name": "stdout",
          "text": [
            "-------------------------------------------\n"
          ]
        },
        {
          "output_type": "display_data",
          "data": {
            "text/plain": [
              "<IPython.core.display.Markdown object>"
            ],
            "text/markdown": "> **model**: ```js\n> function olaMundo() {\n>   return \"Olá, mundo!\";\n> }\n> ```"
          },
          "metadata": {}
        },
        {
          "output_type": "stream",
          "name": "stdout",
          "text": [
            "-------------------------------------------\n"
          ]
        },
        {
          "output_type": "display_data",
          "data": {
            "text/plain": [
              "<IPython.core.display.Markdown object>"
            ],
            "text/markdown": "> **user**: qual a capital de pernambuco"
          },
          "metadata": {}
        },
        {
          "output_type": "stream",
          "name": "stdout",
          "text": [
            "-------------------------------------------\n"
          ]
        },
        {
          "output_type": "display_data",
          "data": {
            "text/plain": [
              "<IPython.core.display.Markdown object>"
            ],
            "text/markdown": "> **model**: Recife"
          },
          "metadata": {}
        },
        {
          "output_type": "stream",
          "name": "stdout",
          "text": [
            "-------------------------------------------\n"
          ]
        },
        {
          "output_type": "display_data",
          "data": {
            "text/plain": [
              "<IPython.core.display.Markdown object>"
            ],
            "text/markdown": "> **user**: qual o melhor lugar do brasil para morar"
          },
          "metadata": {}
        },
        {
          "output_type": "stream",
          "name": "stdout",
          "text": [
            "-------------------------------------------\n"
          ]
        },
        {
          "output_type": "display_data",
          "data": {
            "text/plain": [
              "<IPython.core.display.Markdown object>"
            ],
            "text/markdown": "> **model**: De acordo com pesquisas e rankings recentes, as seguintes cidades estão entre as melhores do Brasil para morar:\n> \n> * **Florianópolis (SC)**\n> * **Curitiba (PR)**\n> * **Porto Alegre (RS)**\n> * **Brasília (DF)**\n> * **São Paulo (SP)**\n> * **Campinas (SP)**\n> * **Belo Horizonte (MG)**\n> * **Goiânia (GO)**\n> * **Salvador (BA)**\n> * **Recife (PE)**\n> \n> A escolha da melhor cidade para morar depende de fatores individuais, como estilo de vida, preferências pessoais e necessidades financeiras."
          },
          "metadata": {}
        },
        {
          "output_type": "stream",
          "name": "stdout",
          "text": [
            "-------------------------------------------\n"
          ]
        }
      ],
      "source": [
        "#Instalando o SDK do Google\n",
        "!pip install -q -U google-generativeai\n",
        "\n",
        "#Configurações iniciais\n",
        "import google.generativeai as genai\n",
        "from google.colab import userdata\n",
        "api_key = userdata.get('SECRET_KEY')\n",
        "genai.configure(api_key=api_key)\n",
        "\n",
        "#Listando os modelos disponíveis\n",
        "for m in genai.list_models():\n",
        "  if 'generateContent' in m.supported_generation_methods:\n",
        "    print(m.name)\n",
        "\n",
        "\n",
        "generation_config = {\n",
        "  \"candidate_count\": 1,\n",
        "  \"temperature\": 0.6,\n",
        "}\n",
        "\n",
        "safety_settings={\n",
        "    'HATE': 'BLOCK_NONE',\n",
        "    'HARASSMENT': 'BLOCK_NONE',\n",
        "    'SEXUAL' : 'BLOCK_NONE',\n",
        "    'DANGEROUS' : 'BLOCK_NONE'\n",
        "    }\n",
        "\n",
        "model = genai.GenerativeModel(model_name='gemini-1.0-pro',\n",
        "                              generation_config=generation_config,\n",
        "                              safety_settings=safety_settings)\n",
        "response = model.generate_content(\"Que empresa criou o modelo de IA Gemini?\")\n",
        "print(response.text)\n",
        "\n",
        "chat = model.start_chat(history=[])\n",
        "\n",
        "prompt = input('Esperando prompt: ')\n",
        "\n",
        "while prompt != \"fim\":\n",
        "  response = chat.send_message(prompt)\n",
        "  print(\"Resposta:\", response.text, '\\n\\n')\n",
        "  prompt = input('Esperando prompt: ')\n",
        "\n",
        "\n",
        "#Melhorando a visualização\n",
        "#Código disponível em https://ai.google.dev/tutorials/python_quickstart#import_packages\n",
        "import textwrap\n",
        "from IPython.display import display\n",
        "from IPython.display import Markdown\n",
        "\n",
        "def to_markdown(text):\n",
        "  text = text.replace('•', '  *')\n",
        "  return Markdown(textwrap.indent(text, '> ', predicate=lambda _: True))\n",
        "\n",
        "#Imprimindo o histórico\n",
        "for message in chat.history:\n",
        "  display(to_markdown(f'**{message.role}**: {message.parts[0].text}'))\n",
        "  print('-------------------------------------------')\n"
      ]
    }
  ],
  "metadata": {
    "colab": {
      "provenance": []
    },
    "kernelspec": {
      "display_name": "Python 3",
      "name": "python3"
    },
    "language_info": {
      "name": "python"
    }
  },
  "nbformat": 4,
  "nbformat_minor": 0
}